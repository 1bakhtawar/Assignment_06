{
  "nbformat": 4,
  "nbformat_minor": 0,
  "metadata": {
    "colab": {
      "provenance": [],
      "authorship_tag": "ABX9TyMu950xd/Ma8aNuzNehSplX",
      "include_colab_link": true
    },
    "kernelspec": {
      "name": "python3",
      "display_name": "Python 3"
    },
    "language_info": {
      "name": "python"
    }
  },
  "cells": [
    {
      "cell_type": "markdown",
      "metadata": {
        "id": "view-in-github",
        "colab_type": "text"
      },
      "source": [
        "<a href=\"https://colab.research.google.com/github/1bakhtawar/Assignment_06/blob/main/Assignment06.ipynb\" target=\"_parent\"><img src=\"https://colab.research.google.com/assets/colab-badge.svg\" alt=\"Open In Colab\"/></a>"
      ]
    },
    {
      "cell_type": "markdown",
      "source": [
        "1. Using self\n",
        "Assignment:\n",
        "Create a class Student with attributes name and marks. Use the self keyword to initialize these values via a constructor. Add a method display() that prints student details.\n",
        "\n"
      ],
      "metadata": {
        "id": "fBgMi3Jjm2HD"
      }
    },
    {
      "cell_type": "code",
      "source": [
        "class Student:\n",
        "  def __init__(self,name,marks):\n",
        "    self.name = name\n",
        "    self.marks = marks\n",
        "  def display(self):\n",
        "    print(f\"Student Name: {self.name}\")\n",
        "    print(f\"Student Marks: {self.marks}\")\n",
        "student1 = Student(\"Bakhtawer\", 95)\n",
        "student1.display()"
      ],
      "metadata": {
        "colab": {
          "base_uri": "https://localhost:8080/"
        },
        "id": "fKnDKngdw-x_",
        "outputId": "c09a5061-ec76-40dc-9317-5deb3ec67540"
      },
      "execution_count": null,
      "outputs": [
        {
          "output_type": "stream",
          "name": "stdout",
          "text": [
            "Student Name: Bakhtawer\n",
            "Student Marks: 95\n"
          ]
        }
      ]
    },
    {
      "cell_type": "markdown",
      "source": [
        "2. Using cls\n",
        "Assignment:\n",
        "Create a class Counter that keeps track of how many objects have been created. Use a class variable and a class method with cls to manage and display the count.\n",
        "\n"
      ],
      "metadata": {
        "id": "8-EVGZm2xkoq"
      }
    },
    {
      "cell_type": "code",
      "source": [
        "class Counter:\n",
        "  count = 0\n",
        "  def __init__(self):\n",
        "    Counter.count += 1\n",
        "  @classmethod\n",
        "  def display_counter(cls):\n",
        "    print(f\"My total created objects are: {cls.count}\")\n",
        "object1 = Counter()\n",
        "object2 = Counter()\n",
        "object3 = Counter()\n",
        "object4 = Counter()\n",
        "object5 = Counter()\n",
        "Counter.display_counter()"
      ],
      "metadata": {
        "colab": {
          "base_uri": "https://localhost:8080/"
        },
        "id": "pN3sH8_lx6rf",
        "outputId": "3f0e5b10-3c80-4540-cf28-c9a66b28cec0"
      },
      "execution_count": null,
      "outputs": [
        {
          "output_type": "stream",
          "name": "stdout",
          "text": [
            "My total created objects are: 5\n"
          ]
        }
      ]
    },
    {
      "cell_type": "markdown",
      "source": [
        "Public Variables and Methods\n",
        "Assignment:\n",
        "Create a class Car with a public variable brand and a public method start(). Instantiate the class and access both from outside the class.."
      ],
      "metadata": {
        "id": "AQzTbgO_zsXB"
      }
    },
    {
      "cell_type": "code",
      "source": [
        "class Car:\n",
        "  def __init__(self,brand):\n",
        "    self.brand = brand\n",
        "  def start (self):\n",
        "    print(f\"{self.brand} is starting...!\")\n",
        "\n",
        "my_car = Car(\"Toyota\")\n",
        "print(my_car.brand)\n",
        "my_car.start()"
      ],
      "metadata": {
        "colab": {
          "base_uri": "https://localhost:8080/"
        },
        "id": "7dMrEIUwzz7z",
        "outputId": "5ddd566a-a446-415b-8b62-2d88edfa6163"
      },
      "execution_count": null,
      "outputs": [
        {
          "output_type": "stream",
          "name": "stdout",
          "text": [
            "Toyota\n",
            "Toyota is starting...!\n"
          ]
        }
      ]
    },
    {
      "cell_type": "markdown",
      "source": [
        " Class Variables and Class Methods\n",
        "Assignment:\n",
        "Create a class Bank with a class variable bank_name. Add a class method change_bank_name(cls, name) that allows changing the bank name. Show that it affects all instances.\n",
        "\n"
      ],
      "metadata": {
        "id": "PG1Q-U7L1HPZ"
      }
    },
    {
      "cell_type": "code",
      "source": [
        "class Bank:\n",
        "  bank_name = \"Habib Bank\"\n",
        "  def __init__(self,acount_holder):\n",
        "    self.acount_holder = acount_holder\n",
        "  @classmethod\n",
        "  def change_bank_name(cls,name):\n",
        "    cls.bank_name = name\n",
        "\n",
        "  def display(self):\n",
        "    print(f\"Acount Holder: {self.acount_holder} , Bank Name: {self.bank_name}\")\n",
        "\n",
        "acount1 = Bank(\"Ali\")\n",
        "acount2 = Bank(\"Fatima\")\n",
        "\n",
        "acount1.display()\n",
        "acount2.display()\n",
        "\n",
        "print(\"\\033[1m\\n Bank changed HABIB BANK to UBL BANK \\n\\033[0m\")\n",
        "\n",
        "Bank.change_bank_name(\"UBL\")\n",
        "acount1.display()\n",
        "acount2.display()\n",
        "\n"
      ],
      "metadata": {
        "colab": {
          "base_uri": "https://localhost:8080/"
        },
        "id": "ZAb-Iq1Q1IY7",
        "outputId": "fe40c717-4e96-4c48-da62-751814c18a92"
      },
      "execution_count": null,
      "outputs": [
        {
          "output_type": "stream",
          "name": "stdout",
          "text": [
            "Acount Holder: Ali , Bank Name: Habib Bank\n",
            "Acount Holder: Fatima , Bank Name: Habib Bank\n",
            "\u001b[1m\n",
            " Bank changed HABIB BANK to UBL BANK \n",
            "\u001b[0m\n",
            "Acount Holder: Ali , Bank Name: UBL\n",
            "Acount Holder: Fatima , Bank Name: UBL\n"
          ]
        }
      ]
    },
    {
      "cell_type": "markdown",
      "source": [
        "5. Static Variables and Static Methods\n",
        "Assignment:\n",
        "Create a class MathUtils with a static method add(a, b) that returns the sum. No class or instance variables should be used."
      ],
      "metadata": {
        "id": "xuLNMRGV8r6Z"
      }
    },
    {
      "cell_type": "code",
      "source": [
        "class Mathutils:\n",
        "  @staticmethod\n",
        "  def add(a,b):\n",
        "    return a + b\n",
        "result = Mathutils.add(5,8)\n",
        "print(\"Sum of my two numbers are: \", result)"
      ],
      "metadata": {
        "id": "c8EspCOK8tCt",
        "colab": {
          "base_uri": "https://localhost:8080/"
        },
        "outputId": "fb2dff72-13e9-45c3-ec3f-6e5a99303ac8"
      },
      "execution_count": null,
      "outputs": [
        {
          "output_type": "stream",
          "name": "stdout",
          "text": [
            "Sum of my two numbers are:  13\n"
          ]
        }
      ]
    },
    {
      "cell_type": "markdown",
      "source": [
        "6. Constructors and Destructors\n",
        "Assignment:\n",
        "Create a class Logger that prints a message when an object is created (constructor) and another message when it is destroyed (destructor)."
      ],
      "metadata": {
        "id": "3xoqqvyQxHNu"
      }
    },
    {
      "cell_type": "code",
      "source": [
        "class Logger:\n",
        "  def __init__(self):\n",
        "      print(\"Before Message: Logger object created...\") # Constructor message\n",
        "  def __del__ (self):\n",
        "      print(\"After Message: Logger object destroyed...\") # destructor message\n",
        "log = Logger()\n",
        "del log"
      ],
      "metadata": {
        "colab": {
          "base_uri": "https://localhost:8080/"
        },
        "id": "iOfUkjubxLr5",
        "outputId": "14455181-9c80-4d45-efbd-3d636754210f"
      },
      "execution_count": null,
      "outputs": [
        {
          "output_type": "stream",
          "name": "stdout",
          "text": [
            "Before Message: Logger object created..\n",
            "After Message: Logger object destroyed...\n"
          ]
        }
      ]
    },
    {
      "cell_type": "markdown",
      "source": [
        "7. Access Modifiers: Public, Private, and Protected\n",
        "Assignment:\n",
        "Create a class Employee with:\n",
        "\n",
        "a public variable name,\n",
        "\n",
        "a protected variable _salary, and\n",
        "\n",
        "a private variable __ssn.\n",
        "\n",
        "Try accessing all three variables from an object of the class and document what happens.\n",
        "\n"
      ],
      "metadata": {
        "id": "J1qbynUYzGES"
      }
    },
    {
      "cell_type": "code",
      "source": [
        "class Employee:\n",
        "  # Public Variable\n",
        "  name = \"Ali\"\n",
        "\n",
        "  # Protected Variable\n",
        "  _salary = 50000\n",
        "\n",
        "  # private Variable\n",
        "  __ssn = \"123-45-6789\"\n",
        "\n",
        " # Creating an object of Employee class\n",
        "emp = Employee()\n",
        "\n",
        "  # Acessing the public variable\n",
        "print(\"Name: \", emp.name)\n",
        "\n",
        "# Acessing the protected Variable\n",
        "print(\"Salary: \", emp._salary)\n",
        "\n",
        "# Accessing the private variable\n",
        "try:\n",
        "  print(\"SSN: \",emp.__ssn)\n",
        "except AttributeError as e:\n",
        "  print(\"Error:\", e)\n",
        "\n",
        "# Acessing the private variable via name mangling\n",
        "print(\"SSN (via name mangling):\", emp._Employee__ssn)\n"
      ],
      "metadata": {
        "colab": {
          "base_uri": "https://localhost:8080/"
        },
        "id": "ZpjOrzulzHAY",
        "outputId": "af3b578a-e487-4ac5-9a82-e533e345bc46"
      },
      "execution_count": null,
      "outputs": [
        {
          "output_type": "stream",
          "name": "stdout",
          "text": [
            "Name:  Ali\n",
            "Salary:  50000\n",
            "Error: 'Employee' object has no attribute '__ssn'\n",
            "SSN (via name mangling): 123-45-6789\n"
          ]
        }
      ]
    },
    {
      "cell_type": "markdown",
      "source": [
        "8. The super() Function\n",
        "Assignment:\n",
        "Create a class Person with a constructor that sets the name. Inherit a class Teacher from it, add a subject field, and use super() to call the base class constructor.\n",
        "\n"
      ],
      "metadata": {
        "id": "e08282MJDIKH"
      }
    },
    {
      "cell_type": "code",
      "source": [
        "class Person:\n",
        "    def __init__(self, name):\n",
        "        self.name = name\n",
        "\n",
        "class Teacher(Person):\n",
        "    def __init__(self, name, subject):\n",
        "      super().__init__(name)\n",
        "      self.subject = subject\n",
        "\n",
        "    def display(self):\n",
        "      print(f\"Name: {self.name}\")\n",
        "      print(f\"Subject: {self.subject}\")\n",
        "\n",
        " # Teacher class ka object bna rha h\n",
        "teacher = Teacher(\"Mr. Ali\" , \"Computer\")\n",
        "teacher.display()"
      ],
      "metadata": {
        "colab": {
          "base_uri": "https://localhost:8080/"
        },
        "id": "-nj3xye1DOHh",
        "outputId": "6e5e60e9-4857-4679-9ea5-b3b62f39fa0a"
      },
      "execution_count": null,
      "outputs": [
        {
          "output_type": "stream",
          "name": "stdout",
          "text": [
            "Name: Mr. Ali\n",
            "Subject: Computer\n"
          ]
        }
      ]
    },
    {
      "cell_type": "markdown",
      "source": [
        "9. Abstract Classes and Methods\n",
        "Assignment:\n",
        "Use the abc module to create an abstract class Shape with an abstract method area(). Inherit a class Rectangle that implements area()."
      ],
      "metadata": {
        "id": "2ArbAdPxtNW-"
      }
    },
    {
      "cell_type": "code",
      "source": [
        "from abc import ABC, abstractmethod\n",
        "\n",
        "# Abstract class shape\n",
        "class Shape(ABC):\n",
        "  @abstractmethod\n",
        "  def area(self):\n",
        "    pass\n",
        "\n",
        "# Class Rectangle that inherits from shape and implements the area method\n",
        "class Rectangle(Shape):\n",
        "  def __init__(self , width , height):\n",
        "    self.width = width\n",
        "    self.height = height\n",
        "\n",
        "  def area(self):\n",
        "      return self.width * self.height\n",
        "\n",
        "# Creating an object of Rectangle and calling the area method\n",
        "rect = Rectangle(5, 10)\n",
        "print(f\"Area of Rectangle: {rect.area()}\")"
      ],
      "metadata": {
        "id": "8_rOE9Z3tOU1",
        "colab": {
          "base_uri": "https://localhost:8080/"
        },
        "outputId": "8e60ac2c-cf57-487b-e652-cf26cb0faf82"
      },
      "execution_count": null,
      "outputs": [
        {
          "output_type": "stream",
          "name": "stdout",
          "text": [
            "Area of Rectangle: 50\n"
          ]
        }
      ]
    },
    {
      "cell_type": "markdown",
      "source": [
        "10. Instance Methods\n",
        "Assignment:\n",
        "Create a class Dog with instance variables name and breed. Add an instance method bark() that prints a message including the dog's name.\n",
        "\n"
      ],
      "metadata": {
        "id": "H8hnz-h6wuUH"
      }
    },
    {
      "cell_type": "code",
      "source": [
        "class Dog:\n",
        "  def __init__(self, name, bread):\n",
        "    # Instance Variables\n",
        "    self.name = name\n",
        "    self.bread = bread\n",
        "  def bark(self):\n",
        "    # Instance Method that prints a message with the dog's name\n",
        "    print(f\"{self.name} says woof!\")\n",
        "\n",
        "  # Creating an object of the Dog class\n",
        "my_dog = Dog(\"Buddy\" , \"Golden Retriever\")\n",
        "my_dog.bark()\n"
      ],
      "metadata": {
        "id": "PXfwmVR2wxGx",
        "colab": {
          "base_uri": "https://localhost:8080/"
        },
        "outputId": "6f0bf641-aae4-4183-da37-9fa93f4963d5"
      },
      "execution_count": null,
      "outputs": [
        {
          "output_type": "stream",
          "name": "stdout",
          "text": [
            "Buddy says woof!\n"
          ]
        }
      ]
    },
    {
      "cell_type": "markdown",
      "source": [],
      "metadata": {
        "id": "aw9oMKze9Fjv"
      }
    },
    {
      "cell_type": "markdown",
      "source": [
        "11. Class Methods\n",
        "Assignment:\n",
        "Create a class Book with a class variable total_books. Add a class method increment_book_count() to increase the count when a new book is added."
      ],
      "metadata": {
        "id": "QP_O7T4tzTlU"
      }
    },
    {
      "cell_type": "code",
      "source": [
        "class Book:\n",
        "  # Class variable to track the total number of books\n",
        "  total_books =0\n",
        "\n",
        "  @classmethod\n",
        "  def increment_book_count(cls):\n",
        "    # Increment the total books count when a new book is added\n",
        "    cls.total_books +=1\n",
        "\n",
        "  def __init__(self, title, author):\n",
        "    # Instance variable\n",
        "    self.title = title\n",
        "    self.author = author\n",
        "    # Call the class method to increment the bok count when a new book is created\n",
        "    Book.increment_book_count()\n",
        "\n",
        "# Creating new book objects\n",
        "book1 = Book(\"The Great Gatsby\", \"F. Scott Fitzgerald\")\n",
        "book2 = Book(\"1980\" , \"George Orwell\")\n",
        "\n",
        "# Accessing the class variable\n",
        "print(f\"Total Books: {Book.total_books}\")"
      ],
      "metadata": {
        "colab": {
          "base_uri": "https://localhost:8080/"
        },
        "id": "Q2GVt6ndzVBN",
        "outputId": "2f3ee636-53e5-4f8a-9047-2b3478f42c89"
      },
      "execution_count": null,
      "outputs": [
        {
          "output_type": "stream",
          "name": "stdout",
          "text": [
            "Total Books: 2\n"
          ]
        }
      ]
    },
    {
      "cell_type": "markdown",
      "source": [
        "12. Static Methods\n",
        "Assignment:\n",
        "Create a class TemperatureConverter with a static method celsius_to_fahrenheit(c) that returns the Fahrenheit value."
      ],
      "metadata": {
        "id": "ZLvRTKqy9MR6"
      }
    },
    {
      "cell_type": "code",
      "source": [
        "class TemperatureConverter:\n",
        "\n",
        "  @staticmethod\n",
        "  def celsius_to_fahrenheit(c):\n",
        "    # Formula to convert Celsius to fahrenheit\n",
        "    return(c * 9/5) + 32\n",
        "\n",
        "# Calling the celsius method without creating an instance of the class\n",
        "celsius = 25\n",
        "fahrenheit = TemperatureConverter.celsius_to_fahrenheit(cel)\n",
        "print(f\"{cel}C is equal to {fahrenheit}F\")\n"
      ],
      "metadata": {
        "id": "BxN5y5AR9TiQ"
      },
      "execution_count": null,
      "outputs": []
    },
    {
      "cell_type": "markdown",
      "source": [
        "13. Composition\n",
        "Assignment:\n",
        "Create a class Engine and a class Car. Use composition by passing an Engine object to the Car class during initialization. Access a method of the Engine class via the Car class.\n",
        "\n"
      ],
      "metadata": {
        "id": "udHy2If9_wSQ"
      }
    },
    {
      "cell_type": "code",
      "source": [
        "class Engine:\n",
        "  def __init__(self, engine_type):\n",
        "    self.engine_type = engine_type\n",
        "\n",
        "  def start(self):\n",
        "    return f\"The {self.engine_type} engine is starting...\"\n",
        "\n",
        "class Car:\n",
        "  def __init__(self, brand , engine):\n",
        "    self.brand = brand\n",
        "    self.engine = engine\n",
        "\n",
        "  def car_start(self):\n",
        "    return f\"{self.brand} Car is starting... {self.engine.start()}\"\n",
        "\n",
        "# Creating an engine object\n",
        "engine = Engine(\"V8\")\n",
        "\n",
        "# Creating a car object and passing the engine object to it\n",
        "car = Car(\"Toyota\", engine)\n",
        "\n",
        "# Calling the start car method which uses the engine's start method\n",
        "print(car.car_start())"
      ],
      "metadata": {
        "id": "FRsJdZc4_x3z",
        "colab": {
          "base_uri": "https://localhost:8080/"
        },
        "outputId": "9eefbce9-f086-4b8b-ccc0-89ce3af04f91"
      },
      "execution_count": null,
      "outputs": [
        {
          "output_type": "stream",
          "name": "stdout",
          "text": [
            "Toyota Car is starting... The V8 engine is starting...\n"
          ]
        }
      ]
    },
    {
      "cell_type": "markdown",
      "source": [
        "14. Aggregation\n",
        "Assignment:\n",
        "Create a class Department and a class Employee. Use aggregation by having a Department object store a reference to an Employee object that exists independently of it.\n",
        "\n"
      ],
      "metadata": {
        "id": "1gZYRmKxmlrj"
      }
    },
    {
      "cell_type": "code",
      "source": [
        "class Employee:\n",
        "    def __init__(self, name , position):\n",
        "      self.name = name\n",
        "      self.position = position\n",
        "    def get_employee_info(self):\n",
        "      return f\"Employee Name: {self.name}, Position: {self.position}\"\n",
        "class Department:\n",
        "    def __init__(self, Department_name , employee):\n",
        "      self.Department_name = Department_name\n",
        "      self.employee = employee\n",
        "\n",
        "    def get_department_info(self):\n",
        "      return f\"Department Name: {self.Department_name}, Employee: {self.employee.get_employee_info()}\"\n",
        "\n",
        "employee1 = Employee(\"Mohsin Raza\" , \"Software Engineer\")\n",
        "department1 = Department(\"IT Department\" , employee1)\n",
        "\n",
        "print(department1.get_department_info())\n"
      ],
      "metadata": {
        "colab": {
          "base_uri": "https://localhost:8080/"
        },
        "id": "G64TEgaUmm5G",
        "outputId": "e32ed450-15e0-49c7-fe91-4ec4140177ab"
      },
      "execution_count": null,
      "outputs": [
        {
          "output_type": "stream",
          "name": "stdout",
          "text": [
            "Department Name: IT Department, Employee: Employee Name: Mohsin Raza, Position: Software Engineer\n"
          ]
        }
      ]
    },
    {
      "cell_type": "markdown",
      "source": [
        "15. Method Resolution Order (MRO) and Diamond Inheritance\n",
        "Assignment:\n",
        "Create four classes:\n",
        "\n",
        "A with a method show(),\n",
        "\n",
        "B and C that inherit from A and override show(),\n",
        "\n",
        "D that inherits from both B and C.\n",
        "\n",
        "Create an object of D and call show() to observe MRO."
      ],
      "metadata": {
        "id": "hfKMiTNJq4OC"
      }
    },
    {
      "cell_type": "code",
      "source": [
        "class A:\n",
        "   def show(self):\n",
        "     print(\"Method from class A\")\n",
        "\n",
        "class B(A):\n",
        "   def show(self):\n",
        "    print(\"Method from class B\")\n",
        "\n",
        "class C(A):\n",
        "    def show(self):\n",
        "      print(\"Method from class C\")\n",
        "class D(B,C):\n",
        "  pass\n",
        "\n",
        "d = D()\n",
        "d.show()\n",
        "\n",
        "print(D.mro())\n"
      ],
      "metadata": {
        "colab": {
          "base_uri": "https://localhost:8080/"
        },
        "id": "PIovF4sJq5V7",
        "outputId": "25b3f3e8-ebf5-4abc-accc-85a6bac0dc8a"
      },
      "execution_count": null,
      "outputs": [
        {
          "output_type": "stream",
          "name": "stdout",
          "text": [
            "Method from class B\n",
            "[<class '__main__.D'>, <class '__main__.B'>, <class '__main__.C'>, <class '__main__.A'>, <class 'object'>]\n"
          ]
        }
      ]
    },
    {
      "cell_type": "markdown",
      "source": [
        "16. Function Decorators\n",
        "Assignment:\n",
        "Write a decorator function log_function_call that prints \"Function is being called\" before a function executes. Apply it to a function say_hello().\n",
        "\n"
      ],
      "metadata": {
        "id": "ShH5p8ens5Qi"
      }
    },
    {
      "cell_type": "code",
      "source": [
        "def log_function_call(func):\n",
        "  def wrapper(*args, **kwargs):\n",
        "    print(\"Function is being called\")\n",
        "    return func(*args, **kwargs)\n",
        "  return wrapper\n",
        "\n",
        "@log_function_call\n",
        "def say_hello():\n",
        "  print(\"Hello, World!\")\n",
        "\n",
        "say_hello()"
      ],
      "metadata": {
        "colab": {
          "base_uri": "https://localhost:8080/"
        },
        "id": "Mezi0DqyriLJ",
        "outputId": "65f873b6-0250-4abf-95f9-86a5756ad66e"
      },
      "execution_count": null,
      "outputs": [
        {
          "output_type": "stream",
          "name": "stdout",
          "text": [
            "Function is being called\n",
            "Hello, World!\n"
          ]
        }
      ]
    },
    {
      "cell_type": "markdown",
      "source": [
        "17. Class Decorators\n",
        "Assignment:\n",
        "Create a class decorator add_greeting that modifies a class to add a greet() method returning \"Hello from Decorator!\". Apply it to a class Person.\n",
        "\n"
      ],
      "metadata": {
        "id": "9jMwXno5tpc5"
      }
    },
    {
      "cell_type": "code",
      "source": [
        "# Class decorator\n",
        "def add_greeting(cls):\n",
        "    def greet(self):\n",
        "        return \"Hello from decorator!\"\n",
        "\n",
        "      # Add the great method to the class\n",
        "    cls.greet = greet\n",
        "    return cls\n",
        "\n",
        "  # Apply the class decorator to the person class\n",
        "@add_greeting\n",
        "class Person:\n",
        "    def __init__(self, name):\n",
        "        self.name = name\n",
        "\n",
        "    def introduce(self):\n",
        "        return f\"Hi, I'm {self.name}\"\n",
        "\n",
        "# Creating an instance of the Person Class\n",
        "person = Person(\"Alice\")\n",
        "\n",
        "# Creating the greet method added by the decorator\n",
        "print(person.greet())\n",
        "\n",
        "\n"
      ],
      "metadata": {
        "id": "3PfvpLGatqdT",
        "colab": {
          "base_uri": "https://localhost:8080/"
        },
        "outputId": "45aeeaf0-4dd0-461c-c052-72b307f05baf"
      },
      "execution_count": null,
      "outputs": [
        {
          "output_type": "stream",
          "name": "stdout",
          "text": [
            "Hello from decorator!\n"
          ]
        }
      ]
    },
    {
      "cell_type": "markdown",
      "source": [
        "18. Property Decorators: @property, @setter, and @deleter\n",
        "Assignment:\n",
        "Create a class Product with a private attribute _price. Use @property to get the price, @price.setter to update it, and @price.deleter to delete it.\n",
        "\n"
      ],
      "metadata": {
        "id": "uYmEjJitAV-3"
      }
    },
    {
      "cell_type": "code",
      "source": [
        "class Product:\n",
        "    def __init__(self, name, price):\n",
        "        self.name = name\n",
        "        self._price = price\n",
        "\n",
        "    @property\n",
        "    def price(self):\n",
        "        return self._price\n",
        "\n",
        "    @price.setter\n",
        "    def price(self, value):\n",
        "        if value < 0:\n",
        "            print(\"Price cannot be negative\")\n",
        "        else:\n",
        "            self._price = value\n",
        "\n",
        "    @price.deleter\n",
        "    def price(self):\n",
        "        print(f\"Deleting the price of {self.name}\")\n",
        "        del self._price\n",
        "\n",
        "# Creating a product object\n",
        "product = Product(\"Laptop\", 1000)\n",
        "\n",
        "# Accessing the price\n",
        "print(product.price)  # 1000\n",
        "\n",
        "# Setting a new valid price\n",
        "product.price = 1200\n",
        "print(product.price)  # 1200\n",
        "\n",
        "# Trying to set an invalid (negative) price\n",
        "product.price = -500  # Prints warning, does not update\n",
        "\n",
        "# Deleting the price\n",
        "del product.price\n"
      ],
      "metadata": {
        "colab": {
          "base_uri": "https://localhost:8080/"
        },
        "id": "dOBCwK-1AedD",
        "outputId": "148ad251-ef82-40f3-a227-3a10b392a43c"
      },
      "execution_count": null,
      "outputs": [
        {
          "output_type": "stream",
          "name": "stdout",
          "text": [
            "1000\n",
            "1200\n",
            "Price cannot be negative\n",
            "Deleting the price of Laptop\n"
          ]
        }
      ]
    },
    {
      "cell_type": "markdown",
      "source": [
        "19. callable() and __call__()\n",
        "Assignment:\n",
        "Create a class Multiplier with an __init__() to set a factor. Define a __call__() method that multiplies an input by the factor. Test it with callable() and by calling the object like a function.\n",
        "\n"
      ],
      "metadata": {
        "id": "T5JU7sllEeQP"
      }
    },
    {
      "cell_type": "code",
      "source": [
        "class Multiplier:\n",
        "    def __init__(self, factor):\n",
        "        self.factor = factor\n",
        "\n",
        "    def __call__(self, value):\n",
        "        return self.factor * value\n",
        "\n",
        "# Create an object of Multiplier\n",
        "multiplier = Multiplier(5)\n",
        "\n",
        "\n",
        "# Test if the object is callable\n",
        "print(callable(multiplier))   # True\n",
        "\n",
        "result = multiplier(10)\n",
        "print(result)"
      ],
      "metadata": {
        "colab": {
          "base_uri": "https://localhost:8080/"
        },
        "id": "yNRssWQEEifC",
        "outputId": "d5aeec3f-6ee9-4a6d-c154-b1c1332dab50"
      },
      "execution_count": null,
      "outputs": [
        {
          "output_type": "stream",
          "name": "stdout",
          "text": [
            "True\n",
            "50\n"
          ]
        }
      ]
    },
    {
      "cell_type": "markdown",
      "source": [
        "20. Creating a Custom Exception\n",
        "Assignment:\n",
        "Create a custom exception InvalidAgeError. Write a function check_age(age) that raises this exception if age < 18. Handle it with try...except.\n",
        "\n"
      ],
      "metadata": {
        "id": "9cvFs2nhLtuO"
      }
    },
    {
      "cell_type": "code",
      "source": [
        "# Step 1: Define a custom exception\n",
        "class InvalidAgeError(Exception):\n",
        "    def __init__(self, message=\"Age must be 18 or above.\"):\n",
        "        self.message = message\n",
        "        super().__init__(self.message)\n",
        "\n",
        "# Step 2: Function that checks age and raises the exception\n",
        "def check_age(age):\n",
        "    if age < 18:\n",
        "        raise InvalidAgeError(f\"Invalid age: {age}. You must be at least 18.\")\n",
        "    else:\n",
        "        print(\"Access granted.\")\n",
        "\n",
        "# Step 3: Handle the exception using try...except\n",
        "try:\n",
        "    user_age = int(input(\"Enter your age: \"))\n",
        "    check_age(user_age)\n",
        "except InvalidAgeError as e:\n",
        "    print(\"Error:\", e)\n",
        "except ValueError:\n",
        "    print(\"Please enter a valid number.\")\n"
      ],
      "metadata": {
        "colab": {
          "base_uri": "https://localhost:8080/"
        },
        "id": "HeZwX4IsL0Ct",
        "outputId": "83911fcc-5dc6-4ede-c206-937b0d9cb0d5"
      },
      "execution_count": null,
      "outputs": [
        {
          "output_type": "stream",
          "name": "stdout",
          "text": [
            "Enter your age: 67\n",
            "Access granted.\n"
          ]
        }
      ]
    },
    {
      "cell_type": "markdown",
      "source": [
        "21. Make a Custom Class Iterable\n",
        "Assignment:\n",
        "Create a class Countdown that takes a start number. Implement __iter__() and __next__() to make the object iterable in a for-loop, counting down to 0."
      ],
      "metadata": {
        "id": "psKhIBEjMarM"
      }
    },
    {
      "cell_type": "code",
      "source": [
        "class Countdown:\n",
        "    def __init__(self, start):\n",
        "        self.start = start\n",
        "        self.current = start\n",
        "\n",
        "    def __iter__(self):\n",
        "        return self  # The object itself is the iterator\n",
        "\n",
        "    def __next__(self):\n",
        "        if self.current < 0:\n",
        "            raise StopIteration\n",
        "        value = self.current\n",
        "        self.current -= 1\n",
        "        return value\n",
        "\n",
        "# Using the Countdown class\n",
        "cd = Countdown(5)\n",
        "\n",
        "for number in cd:\n",
        "    print(number)\n"
      ],
      "metadata": {
        "colab": {
          "base_uri": "https://localhost:8080/"
        },
        "id": "OLG1Qhm1McFt",
        "outputId": "83251472-1401-4430-d494-f90f4e8204a1"
      },
      "execution_count": null,
      "outputs": [
        {
          "output_type": "stream",
          "name": "stdout",
          "text": [
            "5\n",
            "4\n",
            "3\n",
            "2\n",
            "1\n",
            "0\n"
          ]
        }
      ]
    }
  ]
}